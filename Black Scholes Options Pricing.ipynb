{
 "cells": [
  {
   "cell_type": "markdown",
   "metadata": {
    "deletable": false,
    "editable": false
   },
   "source": [
    "<h2>FIN5615 Project #4\n",
    "    <p class=\"text-primary\">Black Scholes Options Pricing (Part I)</p>\n",
    "</h2>"
   ]
  },
  {
   "cell_type": "markdown",
   "metadata": {
    "deletable": false,
    "editable": false
   },
   "source": [
    "<div class = \"panel panel-success\">\n",
    "    <div class = \"panel-heading\"> \n",
    "    <span style=\"color:black\"><b>Project Introduction</b>\n",
    "    </div>\n",
    "    <div class = \"panel-body\"> \n",
    "    The goal of this project is to build an options pricing calculator using the Black-Scholes pricing model. Our calculator will be able to price both put and call options as well as the following set of Greeks: delta, gamma, theta, vega, and rho. \n",
    "    </div>\n",
    "</div>\n",
    "\n",
    "<div class = \"panel panel-info\">\n",
    "    <div class = \"panel-heading\"> \n",
    "    <span style=\"color:black\"><b>Instructions</b>\n",
    "    </div>\n",
    "    <div class = \"panel-body\"> \n",
    "    Please code you solutions directly in this Notebook under each task in the cells provided below. Tasks are intended to be done in order with results from one task informing work in later tasks. Include all code used to produce your results, and support your answers with textual explanations if neccessary. <b>Any written text must be typed in a markdown cell to receive credit!</b> You may feel free to add additional Code and/or Markdown cells as needed. Code must be written using <b>Python 3</b>.\n",
    "    <br><br>Please order the cells in your Notebook in the order in which they are intended to run! It is expected that your Notebook is able to run in sequence from start to finish without any errors (before submitting check by: <code>Kernel > Restart & Run All</code>).\n",
    "    <br><br>Once ready, please submit your assignment as an <b>.ipynb file</b> (<code>File > Download as > Notebook</code>). You must name your files in the following format: <b><code>FIN5615_Project_1_Richard_Lee_tuc12345.ipynb</code></b>.\n",
    "    </div>\n",
    "</div>\n",
    "\n",
    "---\n",
    "<div class = \"alert alert-block alert-warning\">\n",
    "    <b>Note</b>: Import all libraries that you plan on using in the code block below.\n",
    "</div>"
   ]
  },
  {
   "cell_type": "code",
   "execution_count": 1,
   "metadata": {
    "tags": []
   },
   "outputs": [],
   "source": [
    "import numpy as np\n",
    "import matplotlib.pyplot as plt\n",
    "from scipy.stats import norm "
   ]
  },
  {
   "cell_type": "markdown",
   "metadata": {
    "deletable": false,
    "editable": false
   },
   "source": [
    "<div class = \"panel panel-primary\">\n",
    "    <div class = \"panel-heading\"> \n",
    "    <span style=\"color:white\"><b>Task 1</b>\n",
    "    </div>\n",
    "    <div class = \"panel-body\">\n",
    "    Recall that the Black-Scholes formula for the price of a call option is: \n",
    "    <br><br>\n",
    "    $$Call = S_0N(d_1) - Ke^{-rT}N(d_2)$$\n",
    "    <br>$$d_1 = \\frac{1}{\\sigma\\sqrt{T}}\\left[\\ln\\left(\\frac{S_0}{K}\\right) + \\left(r + \\frac{1}{2}\\sigma^2\\right)T\\right]$$\n",
    "    <br>$$d_2 = d_1 - \\sigma\\sqrt{T}$$\n",
    "    <br>Write an expression that can calculate the price of a call option using the Black-Scholes formula, given the follwowing variables:\n",
    "    <ul>\n",
    "        <li><code>stock_price</code> = price of underlying stock at time t</li>\n",
    "        <li><code>strike</code> = strike price of the options contract</li>\n",
    "        <li><code>term</code> = remaining time in years left on the option contract</li>\n",
    "        <li><code>rf</code> = annual risk-free rate</li>\n",
    "        <li><code>volatility</code> = annualized volatility of the underlying stock</li>\n",
    "    </ul>\n",
    "    To check your code, a 6-month call option for a stock priced at \\$30, with a strike price of \\$35 and volatility of 0.2 and risk-free rate of 1%, should return approximately \\$0.3423. \n",
    "    <p style=\"text-align:right;\">[15pts]</p>\n",
    "    </div>\n",
    "</div>\n",
    "<div class = \"alert alert-block alert-info\">\n",
    "    <b>Hint</b>: https://docs.scipy.org/doc/scipy/reference/generated/scipy.stats.norm.html\n",
    "</div>"
   ]
  },
  {
   "cell_type": "code",
   "execution_count": 2,
   "metadata": {},
   "outputs": [
    {
     "data": {
      "text/plain": [
       "0.3422775499415973"
      ]
     },
     "execution_count": 2,
     "metadata": {},
     "output_type": "execute_result"
    }
   ],
   "source": [
    "###Use code below\n",
    "stock_price = 30\n",
    "strike = 35     \n",
    "term = 0.5\n",
    "rf = .01\n",
    "volatility = .2\n",
    "\n",
    "d1 = (1 / (volatility * np.sqrt(term))) * (np.log(stock_price / strike) + (rf + .5 * volatility**2) * term)\n",
    "d2 = d1 - volatility * np.sqrt(term)\n",
    "\n",
    "call = stock_price * norm.cdf(d1) - strike * np.exp(-rf * term) * norm.cdf(d2)\n",
    "call"
   ]
  },
  {
   "cell_type": "markdown",
   "metadata": {
    "deletable": false,
    "editable": false
   },
   "source": [
    "<div class = \"panel panel-primary\">\n",
    "    <div class = \"panel-heading\"> \n",
    "    <span style=\"color:white\"><b>Task 2</b>\n",
    "    </div>\n",
    "    <div class = \"panel-body\"> \n",
    "    Write a function called <code>black_sholes_formula</code> that takes in <code>stock_price</code>, <code>strike</code>, <code>term</code>, <code>rf</code>, and <code>volatility</code> as input parameters, and outputs the price of a call option according to the Black-Scholes pricing model.\n",
    "    <br><br>Double check that the function outputs the same price as the previous task under the following values:\n",
    "    <ul>\n",
    "        <li><code>stock_price</code> = \\$30</li>\n",
    "        <li><code>strike</code> = \\$35</li>\n",
    "        <li><code>term</code> = 6 months</li>\n",
    "        <li><code>rf</code> = 1%</li>\n",
    "        <li><code>volatility</code> = 0.2</li>\n",
    "    </ul>\n",
    "    <p style=\"text-align:right;\">[15pts]</p>\n",
    "    </div>\n",
    "</div>"
   ]
  },
  {
   "cell_type": "code",
   "execution_count": 3,
   "metadata": {
    "tags": []
   },
   "outputs": [],
   "source": [
    "\n",
    "stock_price = 30\n",
    "strike = 35\n",
    "term = 0.5\n",
    "rf = 0.01\n",
    "volatility = 0.2\n",
    "###\n",
    "N = norm.cdf\n",
    "\n",
    "\n",
    "def black_sholes_formula(stock_price, strike, term, rf, volatility):\n",
    "    d1 = (np.log(stock_price/strike) + (rf + volatility**2/2)*term) / (volatility*np.sqrt(term))\n",
    "    d2 = d1 - volatility * np.sqrt(term)\n",
    "    call = stock_price * N(d1) - strike * np.exp(-rf*term)* N(d2)\n",
    "\n",
    "\n",
    "###Use code below\n",
    "    return call\n"
   ]
  },
  {
   "cell_type": "code",
   "execution_count": 4,
   "metadata": {},
   "outputs": [
    {
     "data": {
      "text/plain": [
       "0.3422775499415973"
      ]
     },
     "execution_count": 4,
     "metadata": {},
     "output_type": "execute_result"
    }
   ],
   "source": [
    "black_sholes_formula(stock_price = 30, strike = 35, term = 0.5, rf = .01, volatility = .2)"
   ]
  },
  {
   "cell_type": "markdown",
   "metadata": {
    "deletable": false,
    "editable": false
   },
   "source": [
    "<div class = \"panel panel-primary\">\n",
    "    <div class = \"panel-heading\"> \n",
    "    <span style=\"color:white\"><b>Task 3</b>\n",
    "    </div>\n",
    "    <div class = \"panel-body\">\n",
    "    Recall that the Black-Scholes formula for the price of a put option is:\n",
    "    <br><br>\n",
    "    $$Put = Ke^{-rT}N(-d_2) - S_0N(-d_1)$$\n",
    "    <br>Modify the function <code>black_sholes_formula</code> by adding an extra input parameter <code>option</code> that can take on either the value <code>'call'</code> or <code>'put'</code>. Depending on the value assigned to the parameter <code>option</code>, <code>black_sholes_formula</code> will output either the price of a call or a put option.\n",
    "    <br><br>Use the updated <code>black_sholes_formula</code> function to calculate the price of both a <b>call</b> and <b>put</b> option using the following input values:\n",
    "    <ul>\n",
    "        <li><code>stock_price</code> = \\$30</li>\n",
    "        <li><code>strike</code> = \\$35</li>\n",
    "        <li><code>term</code> = 6 months</li>\n",
    "        <li><code>rf</code> = 1%</li>\n",
    "        <li><code>volatility</code> = 0.2</li>\n",
    "    </ul>\n",
    "    The value of the call option should be approximately \\$0.3423 and the value of the put option should be approximately $5.1677. Briefly explain why the put option is valued much higher than the call option under the above input values.    \n",
    "    <p style=\"text-align:right;\">[20pts]</p>\n",
    "    </div>\n",
    "</div>"
   ]
  },
  {
   "cell_type": "code",
   "execution_count": 5,
   "metadata": {
    "tags": []
   },
   "outputs": [],
   "source": [
    "###Use code below\n",
    "\n",
    "\n",
    "stock_price = 30\n",
    "strike = 35\n",
    "term = 0.5\n",
    "rf = 0.01\n",
    "volatility = 0.2\n",
    "\n",
    "N = norm.cdf\n",
    "\n",
    "\n",
    "def black_scholes_formula(stock_price, strike, term, rf, volatility, option):\n",
    "    d1 = (1 / (volatility * np.sqrt(term))) * (np.log(stock_price / strike) + (rf + .5 * volatility**2) * term)\n",
    "    d2 = d1 - volatility * np.sqrt(term)\n",
    "    if option == 'call':\n",
    "        value = stock_price * norm.cdf(d1) - strike * np.exp(-rf * term) * norm.cdf(d2)\n",
    "    elif option == 'put':\n",
    "        value = strike * np.exp(-rf * term) * norm.cdf(-d2) - stock_price * norm.cdf(-d1)\n",
    "        \n",
    "    return value\n",
    "        \n",
    "\n",
    "\n",
    "\n",
    "\n",
    "\n"
   ]
  },
  {
   "cell_type": "code",
   "execution_count": 6,
   "metadata": {},
   "outputs": [
    {
     "data": {
      "text/plain": [
       "0.3422775499415973"
      ]
     },
     "execution_count": 6,
     "metadata": {},
     "output_type": "execute_result"
    }
   ],
   "source": [
    "black_scholes_formula(stock_price = 30, strike = 35, term = .5, rf = .01, volatility = .2, option = 'call')"
   ]
  },
  {
   "cell_type": "code",
   "execution_count": 7,
   "metadata": {},
   "outputs": [
    {
     "data": {
      "text/plain": [
       "5.167714321685477"
      ]
     },
     "execution_count": 7,
     "metadata": {},
     "output_type": "execute_result"
    }
   ],
   "source": [
    "black_scholes_formula(stock_price = 30, strike = 35, term = .5, rf = .01, volatility = .2, option = 'put')"
   ]
  },
  {
   "attachments": {
    "Task_4_Plot.JPG": {
     "image/jpeg": "[encoded data removed]"
    }
   },
   "cell_type": "markdown",
   "metadata": {
    "deletable": false,
    "editable": false
   },
   "source": [
    "<div class = \"panel panel-primary\">\n",
    "    <div class = \"panel-heading\"> \n",
    "    <span style=\"color:white\"><b>Task 4</b>\n",
    "    </div>\n",
    "    <div class = \"panel-body\"> \n",
    "    Recall that the payoff of a call option is $\\max(S_T - K, 0)$.\n",
    "    <ul>\n",
    "        <li>Price the value of the call option with \\$35 strike, 6 months to termination, at 0.2 volatility and 1% risk-free rate, when stock price ranges from \\$10 to \\$60 (use \\$0.50 increments).</li>\n",
    "        <li>Also calculate the option's payoff assuming the same range of stock price at termination.</li>\n",
    "        <li>Plot the ranges of call option prices and payoffs in a single line plot. Provide a legend, x-axis label, and title for the plot.</li>\n",
    "    </ul>\n",
    "    Your final plot should look like this:\n",
    "        \n",
    "![Task_4_Plot.JPG](attachment:Task_4_Plot.JPG)\n",
    "    <p style=\"text-align:right;\">[20pts]</p>\n",
    "    </div>\n",
    "</div>"
   ]
  },
  {
   "cell_type": "code",
   "execution_count": 8,
   "metadata": {},
   "outputs": [],
   "source": [
    "def black_scholes_formula(strike, term, rf, volatility, stock_price):\n",
    "    d1 = (1 / (volatility * np.sqrt(term))) * (np.log(stock_price / strike) + (rf + .5 * volatility**2) * term)\n",
    "    d2 = d1 - volatility * np.sqrt(term)\n",
    "\n",
    "    call = stock_price * norm.cdf(d1) - strike * np.exp(-rf * term) * norm.cdf(d2)\n",
    "\n",
    "    return call"
   ]
  },
  {
   "cell_type": "code",
   "execution_count": 9,
   "metadata": {},
   "outputs": [],
   "source": [
    "stock_prices = np.arange(10., 60.5, .5)\n",
    "price = [black_scholes_formula(strike = 35., term = .5, rf = .01, volatility = .2, stock_price = price) for price in stock_prices]"
   ]
  },
  {
   "cell_type": "code",
   "execution_count": 10,
   "metadata": {},
   "outputs": [],
   "source": [
    "def call_payoff(strike, stock_price):\n",
    "    payoff = max(stock_price - strike, 0)\n",
    "    \n",
    "    return payoff"
   ]
  },
  {
   "cell_type": "code",
   "execution_count": 11,
   "metadata": {},
   "outputs": [],
   "source": [
    "stock_prices = np.arange(10, 60.5, 0.5)\n",
    "payoff = [call_payoff(strike = 35., stock_price = price) for price in stock_prices]"
   ]
  },
  {
   "cell_type": "code",
   "execution_count": null,
   "metadata": {},
   "outputs": [],
   "source": []
  },
  {
   "cell_type": "code",
   "execution_count": 12,
   "metadata": {
    "tags": []
   },
   "outputs": [
    {
     "data": {
      "image/png": "[encoded data removed]",
      "text/plain": [
       "<Figure size 432x288 with 1 Axes>"
      ]
     },
     "metadata": {
      "needs_background": "light"
     },
     "output_type": "display_data"
    }
   ],
   "source": [
    "plt.plot(stock_prices, price, label = \"price\")\n",
    "plt.plot(stock_prices, payoff, label = \"payoff\")\n",
    "\n",
    "\n",
    "plt.xlabel('stock price')\n",
    "\n",
    "plt.title('Call Prices and Payoffs vs Stock Price')\n",
    "\n",
    "plt.legend(['Price', 'Payoff'])\n",
    "\n",
    "plt.show()"
   ]
  },
  {
   "cell_type": "markdown",
   "metadata": {
    "deletable": false,
    "editable": false
   },
   "source": [
    "<div class = \"panel panel-primary\">\n",
    "    <div class = \"panel-heading\"> \n",
    "    <span style=\"color:white\"><b>Task 5</b>\n",
    "    </div>\n",
    "    <div class = \"panel-body\"> \n",
    "    Recall that given a continuous annual dividend rate $q$:\n",
    "    <br><br>\n",
    "    $$Call = S_0e^{-qT}N(d_1) - Ke^{-rT}N(d_2)$$\n",
    "    <br>$$Put = Ke^{-rT}N(-d_2) - S_0e^{-qT}N(-d_1)$$\n",
    "    <br>$$d_1 = \\frac{1}{\\sigma\\sqrt{T}}\\left[\\ln\\left(\\frac{S_0}{K}\\right) + \\left(r - q + \\frac{1}{2}\\sigma^2\\right)T\\right]$$\n",
    "    <br>$$d_2 = d_1 - \\sigma\\sqrt{T}$$\n",
    "    <ul>\n",
    "        <li>Add an additional input parameter <code>dividend</code>, to the function <code>black_sholes_formula</code>, representing the continuous rate of dividend paid to shareholders by the stock, with a default value to equal to 0. Modify the Black-Scholes pricing formula to account for the dividend rate.</li>\n",
    "        <li>Calculate the price of a call option where the stock price is \\$30, strike is \\$35, term is 6 months, volatility is 20%, that also pays a 2.5% annual dividend, using a risk-free rate of 1%. Your answer should be approximately \\$0.2856.</li>\n",
    "        <li>How does adding a dividend rate influence the price of a call option and why?</li>\n",
    "    </ul>\n",
    "    <p style=\"text-align:right;\">[20pts]</p>\n",
    "    </div>\n",
    "</div>"
   ]
  },
  {
   "cell_type": "code",
   "execution_count": 13,
   "metadata": {},
   "outputs": [],
   "source": [
    "def black_scholes_formula(stock_price, strike, term, rf, volatility, option, dividend):\n",
    "    d1 = (1 / (volatility * np.sqrt(term))) * (np.log(stock_price / strike) + (rf - dividend + .5 * volatility**2) * term)\n",
    "    d2 = d1 - volatility * np.sqrt(term)\n",
    "    if option == 'call':\n",
    "        value = stock_price * norm.cdf(d1) * np.exp(-dividend * term) - strike * np.exp(-rf * term) * norm.cdf(d2)\n",
    "    elif option == 'put':\n",
    "        value = strike * np.exp(-rf * term) * norm.cdf(-d2) - stock_price * np.exp(-dividend * term)* norm.cdf(-d1)\n",
    "        \n",
    "    return value\n",
    "        "
   ]
  },
  {
   "cell_type": "code",
   "execution_count": 14,
   "metadata": {},
   "outputs": [
    {
     "data": {
      "text/plain": [
       "0.2856163755278227"
      ]
     },
     "execution_count": 14,
     "metadata": {},
     "output_type": "execute_result"
    }
   ],
   "source": [
    "black_scholes_formula(stock_price = 30, strike = 35, term = .5, rf = .01, volatility = .2, option = 'call', dividend = .025)"
   ]
  },
  {
   "cell_type": "markdown",
   "metadata": {},
   "source": [
    "So, when we added divident rate to the function it means there would be an unexpected cash dividend. This cash dividend would reduce the stock price on the ex-dividend date. This stock price reduction would not be anticipated by option holders prior to the dividend announcement. As a result, there would be a reduction in the value of a call option and an increase the value of a put option.\n",
    "\n"
   ]
  }
 ],
 "metadata": {
  "kernelspec": {
   "display_name": "Python 3 (ipykernel)",
   "language": "python",
   "name": "python3"
  },
  "language_info": {
   "codemirror_mode": {
    "name": "ipython",
    "version": 3
   },
   "file_extension": ".py",
   "mimetype": "text/x-python",
   "name": "python",
   "nbconvert_exporter": "python",
   "pygments_lexer": "ipython3",
   "version": "3.9.12"
  }
 },
 "nbformat": 4,
 "nbformat_minor": 4
}
